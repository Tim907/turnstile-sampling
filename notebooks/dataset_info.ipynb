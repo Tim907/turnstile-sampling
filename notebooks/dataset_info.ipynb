{
 "cells": [
  {
   "cell_type": "code",
   "execution_count": 1,
   "metadata": {},
   "outputs": [],
   "source": [
    "from sketching.datasets import Dataset, Covertype_Sklearn, KDDCup_Sklearn, Webspam_libsvm\n",
    "from sketching import settings\n",
    "\n",
    "import logging\n",
    "\n",
    "# disable log output\n",
    "logger = logging.getLogger(settings.LOGGER_NAME)\n",
    "logger.setLevel(logging.WARNING)"
   ]
  },
  {
   "cell_type": "code",
   "execution_count": 2,
   "metadata": {},
   "outputs": [],
   "source": [
    "def print_dataset_info(dataset: Dataset):\n",
    "    print(\"Info for dataset \"+dataset.get_name()+\":\")\n",
    "    print(f\"n = {dataset.get_n()}\")\n",
    "    print(f\"d = {dataset.get_d()}\")"
   ]
  },
  {
   "cell_type": "code",
   "execution_count": 3,
   "metadata": {},
   "outputs": [
    {
     "name": "stdout",
     "output_type": "stream",
     "text": [
      "Info for dataset covertype_sklearn:\n"
     ]
    },
    {
     "name": "stderr",
     "output_type": "stream",
     "text": [
      "2022-07-23 18:36:15,970 - PID: 25004 - PName: MainProcess - INFO - Downloading https://ndownloader.figshare.com/files/5976042\n"
     ]
    },
    {
     "name": "stdout",
     "output_type": "stream",
     "text": [
      "n = 581012\n",
      "d = 54\n",
      "Info for dataset kddcup_sklearn:\n",
      "n = 494021\n",
      "d = 33\n",
      "Info for dataset webspam_libsvm_desparsed:\n",
      "n = 349998\n",
      "d = 128\n"
     ]
    }
   ],
   "source": [
    "print_dataset_info(Covertype_Sklearn())\n",
    "print_dataset_info(KDDCup_Sklearn())\n",
    "print_dataset_info(Webspam_libsvm())"
   ]
  }
 ],
 "metadata": {
  "kernelspec": {
   "display_name": "Python 3.9.13 64-bit",
   "language": "python",
   "name": "python3"
  },
  "language_info": {
   "codemirror_mode": {
    "name": "ipython",
    "version": 3
   },
   "file_extension": ".py",
   "mimetype": "text/x-python",
   "name": "python",
   "nbconvert_exporter": "python",
   "pygments_lexer": "ipython3",
   "version": "3.9.13"
  },
  "metadata": {
   "interpreter": {
    "hash": "973d2a6cb8ee44537b3c610059a856246ace7cb1c50cf3df2561fdd2103fe937"
   }
  },
  "vscode": {
   "interpreter": {
    "hash": "10d7c05fd2b5ed04d13a4c29e9a3a2bc243f94971d885e6d53dab5f8a5c37a60"
   }
  }
 },
 "nbformat": 4,
 "nbformat_minor": 2
}

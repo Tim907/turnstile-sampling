{
 "cells": [
  {
   "cell_type": "code",
   "execution_count": 1,
   "metadata": {},
   "outputs": [],
   "source": [
    "from sketching import settings\n",
    "from sketching.datasets import Dataset, Covertype_Sklearn, KDDCup_Sklearn, Webspam_libsvm, Synthetic_Dataset, NoisyDataset, Synthetic_Dataset_Cohen \n",
    "\n",
    "import pandas as pd\n",
    "\n",
    "import numpy as np\n",
    "\n",
    "import matplotlib.pyplot as plt\n",
    "import matplotlib"
   ]
  },
  {
   "cell_type": "code",
   "execution_count": 2,
   "metadata": {},
   "outputs": [],
   "source": [
    "if not settings.PLOTS_DIR.exists():\n",
    "    settings.PLOTS_DIR.mkdir()"
   ]
  },
  {
   "cell_type": "code",
   "execution_count": 3,
   "metadata": {},
   "outputs": [],
   "source": [
    "def get_results_df(dataset: Dataset, time_column):\n",
    "    df_list = []\n",
    "    \n",
    "    #for method in [\"uniform\", \"l2s\", \"sketching\"]:\n",
    "    for method in [\"cosketching1\", \"cosketching2\", \"cosketching5\", \"cosketching10\"]:#, \"cosketching20\"]:\n",
    "        df = (\n",
    "            pd.read_csv(settings.RESULTS_DIR / (dataset.get_name() + f\"_{method}.csv\"))\n",
    "            .filter(items=[time_column, \"size\", \"ratio\"])\n",
    "            .groupby([\"size\"], as_index=False)\n",
    "            .median()\n",
    "            .assign(method=method)\n",
    "        )\n",
    "        df_list.append(df)\n",
    "\n",
    "    return(pd.concat(df_list, ignore_index=True))\n",
    "\n",
    "#get_results_df(Covertype_Sklearn(), \"sampling_time_s\")"
   ]
  },
  {
   "cell_type": "code",
   "execution_count": 4,
   "metadata": {},
   "outputs": [],
   "source": [
    "def make_plot(dataset,  x_min, x_max, y_min, y_max, sampling_time=False, font_size=18, font_size_title=23):\n",
    "    if sampling_time:\n",
    "        time_column = \"sampling_time_s\"\n",
    "    else:\n",
    "        time_column = \"total_time_s\"\n",
    "\n",
    "    results_df = get_results_df(dataset, time_column=time_column)\n",
    "\n",
    "    # use TeX for typesetting\n",
    "    plt.rcParams[\"text.usetex\"] = True\n",
    "    plt.rc(\"font\", size=font_size)\n",
    "\n",
    "    fig, ax = plt.subplots()\n",
    "\n",
    "    colormap = matplotlib.cm.get_cmap(name=\"tab10\")\n",
    "    colors = {\n",
    "        \"cosketching1\": colormap(3),\n",
    "        \"cosketching2\": colormap(0),\n",
    "        \"cosketching5\": colormap(1),\n",
    "        \"cosketching10\": colormap(2),\n",
    "        #\"cosketching20\": colormap(1),\n",
    "    }\n",
    "\n",
    "    labels = {\n",
    "        \"cosketching1\": \"Sketch (old)\",\n",
    "        \"cosketching2\": \"Sketch2\",\n",
    "        \"cosketching5\": \"Sketch5\",\n",
    "        \"cosketching10\": \"Sketch10\",\n",
    "        #\"cosketching20\": \"Sketch20\"\n",
    "    }\n",
    "\n",
    "    titles = {\n",
    "        \"covertype_sklearn\": \"Covertype\",\n",
    "        \"covertype_sklearn_noisy\": \"Covertype, 1\\% noisy\",\n",
    "        \"kddcup_sklearn\": \"Kddcup\",\n",
    "        \"kddcup_sklearn_noisy\": \"Kddcup, 1\\% noisy\",\n",
    "        \"webspam_libsvm_desparsed\": \"Webspam\",\n",
    "        \"webspam_libsvm_desparsed_noisy\": \"Webspam, 1\\% noisy\",\n",
    "        \"synthetic_n_100000\": \"Synthetic\",\n",
    "        \"synthetic_n_20000_d_100\": \"Synthetic data\"\n",
    "    }\n",
    "\n",
    "    for cur_method in [\"cosketching1\", \"cosketching2\", \"cosketching5\", \"cosketching10\"]:#, \"cosketching20\"]:\n",
    "        cur_results = results_df.loc[results_df[\"method\"] == cur_method]\n",
    "        ax.scatter(\n",
    "            cur_results[time_column], \n",
    "            cur_results[\"ratio\"],\n",
    "            color=colors[cur_method],\n",
    "            label=labels[cur_method],\n",
    "        )\n",
    "\n",
    "    ax.set_xlim(left=x_min, right=x_max)\n",
    "    ax.set_ylim(bottom=y_min, top=y_max)\n",
    "\n",
    "    if sampling_time:\n",
    "        ax.set_xlabel(\"median sampling time (s)\")\n",
    "    else:\n",
    "        ax.set_xlabel(\"median absolute running time (s)\")\n",
    "\n",
    "    ax.set_ylabel(\"median approximation ratio\")\n",
    "\n",
    "    ax.set_title(titles[dataset.get_name()], fontsize=font_size_title)\n",
    "\n",
    "    legend = ax.legend(loc=\"upper right\", frameon=True)\n",
    "\n",
    "    fig.tight_layout()\n",
    "\n",
    "    if sampling_time:\n",
    "        plt.savefig(settings.PLOTS_DIR / f\"{dataset.get_name()}_sampling_time_plot.pdf\")\n",
    "    else:\n",
    "        plt.savefig(settings.PLOTS_DIR / f\"{dataset.get_name()}_total_time_plot.pdf\")\n",
    "\n",
    "    plt.show()\n"
   ]
  },
  {
   "cell_type": "code",
   "execution_count": null,
   "metadata": {},
   "outputs": [],
   "source": [
    "dataset = Synthetic_Dataset_Cohen(20000, 100)\n",
    "make_plot(dataset, x_min=None, x_max=None, y_min=None, y_max=10, sampling_time=False)\n",
    "make_plot(dataset, x_min=None, x_max=None, y_min=None, y_max=None, sampling_time=True)"
   ]
  },
  {
   "cell_type": "code",
   "execution_count": null,
   "metadata": {},
   "outputs": [],
   "source": [
    "dataset = Covertype_Sklearn()\n",
    "make_plot(dataset, x_min=None, x_max=None, y_min=None, y_max=None, sampling_time=False)\n",
    "make_plot(dataset, x_min=None, x_max=None, y_min=None, y_max=None, sampling_time=True)"
   ]
  },
  {
   "cell_type": "code",
   "execution_count": null,
   "metadata": {},
   "outputs": [],
   "source": [
    "dataset = KDDCup_Sklearn()\n",
    "make_plot(dataset, x_min=None, x_max=None, y_min=None, y_max=None, sampling_time=False)\n",
    "make_plot(dataset, x_min=None, x_max=None, y_min=None, y_max=None, sampling_time=True)"
   ]
  },
  {
   "cell_type": "code",
   "execution_count": null,
   "metadata": {},
   "outputs": [],
   "source": [
    "dataset = Webspam_libsvm()\n",
    "make_plot(dataset, x_min=None, x_max=None, y_min=1, y_max=2, sampling_time=False)\n",
    "make_plot(dataset, x_min=None, x_max=None, y_min=1, y_max=2, sampling_time=True)"
   ]
  },
  {
   "cell_type": "code",
   "execution_count": null,
   "metadata": {},
   "outputs": [],
   "source": [
    "dataset = Synthetic_Dataset(n_rows=100000)\n",
    "make_plot(dataset, x_min=None, x_max=None, y_min=None, y_max=None, sampling_time=False)\n",
    "make_plot(dataset, x_min=None, x_max=None, y_min=None, y_max=None, sampling_time=True)"
   ]
  },
  {
   "cell_type": "code",
   "execution_count": null,
   "metadata": {},
   "outputs": [],
   "source": [
    "dataset = NoisyDataset(dataset=Webspam_libsvm(), percentage=0.01, std=10)\n",
    "make_plot(dataset, x_min=None, x_max=None, y_min=1, y_max=20, sampling_time=False)\n",
    "make_plot(dataset, x_min=None, x_max=None, y_min=1, y_max=50, sampling_time=True)"
   ]
  },
  {
   "cell_type": "code",
   "execution_count": null,
   "metadata": {},
   "outputs": [],
   "source": [
    "dataset = NoisyDataset(dataset=Covertype_Sklearn(), percentage=0.01, std=10)\n",
    "make_plot(dataset, x_min=None, x_max=None, y_min=1, y_max=5, sampling_time=False)\n",
    "make_plot(dataset, x_min=None, x_max=None, y_min=1, y_max=5, sampling_time=True)"
   ]
  },
  {
   "cell_type": "code",
   "execution_count": null,
   "metadata": {},
   "outputs": [],
   "source": [
    "dataset = NoisyDataset(dataset=KDDCup_Sklearn(), percentage=0.01, std=10)\n",
    "make_plot(dataset, x_min=None, x_max=None, y_min=1, y_max=5, sampling_time=False)\n",
    "make_plot(dataset, x_min=None, x_max=None, y_min=1, y_max=5, sampling_time=True)"
   ]
  }
 ],
 "metadata": {
  "kernelspec": {
   "display_name": "Python 3.9.13 64-bit",
   "language": "python",
   "name": "python3"
  },
  "language_info": {
   "codemirror_mode": {
    "name": "ipython",
    "version": 3
   },
   "file_extension": ".py",
   "mimetype": "text/x-python",
   "name": "python",
   "nbconvert_exporter": "python",
   "pygments_lexer": "ipython3",
   "version": "3.9.13"
  },
  "metadata": {
   "interpreter": {
    "hash": "973d2a6cb8ee44537b3c610059a856246ace7cb1c50cf3df2561fdd2103fe937"
   }
  },
  "vscode": {
   "interpreter": {
    "hash": "10d7c05fd2b5ed04d13a4c29e9a3a2bc243f94971d885e6d53dab5f8a5c37a60"
   }
  }
 },
 "nbformat": 4,
 "nbformat_minor": 4
}

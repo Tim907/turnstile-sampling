{
 "cells": [
  {
   "cell_type": "code",
   "execution_count": 1,
   "metadata": {},
   "outputs": [],
   "source": [
    "from sketching import settings\n",
    "from sketching.datasets import Dataset, Covertype_Sklearn, KDDCup_Sklearn, Webspam_libsvm, Synthetic_Dataset, NoisyDataset, Synthetic_Dataset_Cohen \n",
    "\n",
    "import pandas as pd\n",
    "\n",
    "import numpy as np\n",
    "\n",
    "import matplotlib.pyplot as plt\n",
    "import matplotlib\n",
    "from os.path import exists"
   ]
  },
  {
   "cell_type": "code",
   "execution_count": 2,
   "metadata": {},
   "outputs": [],
   "source": [
    "if not settings.PLOTS_DIR.exists():\n",
    "    settings.PLOTS_DIR.mkdir()"
   ]
  },
  {
   "cell_type": "code",
   "execution_count": 3,
   "metadata": {},
   "outputs": [],
   "source": [
    "def get_results_df(dataset: Dataset):\n",
    "    df_list = []\n",
    "    for method in [\"cosketching1\", \"cosketching2\", \"cosketching5\", \"cosketching10\"]:#, \"cosketching20\"]:\n",
    "    #for method in [\"uniform\", \"l2s\", \"sketching\", \"sketching1\", \"sketching2\", \"sketching3\", \"sketching4\"]:\n",
    "    #for method in [\"uniform\", \"l2s\", \"sketching1\", \"sketching2\", \"sketching3\", \"sketching4\", \"sketching5\", \"sketching6\", \"sketching7\", \"sketching8\"]:\n",
    "    #for method in [\"uniform\", \"l2s\", \"sketching1\", \"sketching2\", \"sketching3\", \"sketching4\", \"sketching5\", \"sketching6\", \"sketching7\", \"sketching8\", \"sketching9\", \"sketching10\", \"sketching11\", \"sketching12\", \"sketching13\", \"sketching14\", \"sketching15\", \"sketching16\"]:\n",
    "        filename = settings.RESULTS_DIR / (dataset.get_name() + f\"_{method}.csv\")\n",
    "        if exists(filename):\n",
    "            df = (\n",
    "                pd.read_csv(filename)\n",
    "                .filter(items=[\"ratio\", \"size\"])\n",
    "                .groupby([\"size\"], as_index=False)\n",
    "                .median()\n",
    "                .assign(method=method)\n",
    "            )\n",
    "            df_list.append(df)\n",
    "\n",
    "    filename = settings.RESULTS_DIR / (dataset.get_name() + f\"_sgd.csv\")\n",
    "    if exists(filename):\n",
    "        df_sgd = (\n",
    "            pd.read_csv(filename)\n",
    "            .filter(items=[\"ratio\"])\n",
    "            .assign(method=\"sgd\", size=np.nan)\n",
    "            .groupby([\"method\"], as_index=False)\n",
    "            .median()\n",
    "        )\n",
    "        df_list.append(df_sgd)\n",
    "\n",
    "    filename = settings.RESULTS_DIR / (dataset.get_name() + f\"_cauchy.csv\")\n",
    "    if exists(filename):\n",
    "        df = (\n",
    "                pd.read_csv(filename)\n",
    "                .filter(items=[\"ratio\", \"size\"])\n",
    "                .groupby([\"size\"], as_index=False)\n",
    "                .median()\n",
    "                .assign(method=\"cauchy\")\n",
    "            )\n",
    "        df_list.append(df)\n",
    "\n",
    "    return(pd.concat(df_list, ignore_index=True))"
   ]
  },
  {
   "cell_type": "code",
   "execution_count": 4,
   "metadata": {},
   "outputs": [],
   "source": [
    "def make_plot(dataset, x_min, x_max, y_min, y_max, font_size=15, font_size_title=23, scale_log=False):\n",
    "    results_df = get_results_df(dataset)\n",
    "\n",
    "    # use TeX for typesetting\n",
    "    plt.rcParams[\"text.usetex\"] = True\n",
    "    plt.rc(\"font\", size=font_size)\n",
    "\n",
    "    fig, ax = plt.subplots()\n",
    "\n",
    "    colormap = matplotlib.cm.get_cmap(name=\"tab10\")\n",
    "    colors = {\n",
    "        \"cauchy\": colormap(3),\n",
    "        #\"uniform\": colormap(0),\n",
    "        \"cosketching1\": colormap(3),\n",
    "        \"cosketching2\": colormap(0),\n",
    "        \"cosketching5\": colormap(1),\n",
    "        \"cosketching10\": colormap(2),\n",
    "        #\"cosketching20\": colormap(1),\n",
    "        #\"sketching5\": colormap(7),\n",
    "        #\"sketching6\": colormap(8),\n",
    "        #\"sketching7\": colormap(9),\n",
    "        #\"sketching8\": colormap(10),\n",
    "        #\"sketching9\": colormap(11),\n",
    "        #\"sketching10\": colormap(15),\n",
    "        #\"sketching11\": colormap(12),\n",
    "        #\"sketching12\": colormap(13),\n",
    "        #\"sketching13\": colormap(14),\n",
    "        #\"sketching14\": colormap(16),\n",
    "        #\"sketching15\": colormap(17),\n",
    "        #\"sketching16\": colormap(18),\n",
    "        #\"l2s\": colormap(4),\n",
    "    }\n",
    "\n",
    "    labels = {\n",
    "        \"cauchy\": \"Cauchy\",\n",
    "        #\"uniform\": \"Uniform\",\n",
    "        \"cosketching1\": \"Sketch (old)\",\n",
    "        \"cosketching2\": \"Sketch2\",\n",
    "        \"cosketching5\": \"Sketch5\",\n",
    "        \"cosketching10\": \"Sketch10\",\n",
    "        #\"cosketching20\": \"Sketch20\",\n",
    "        #\"sketching5\": \"Sketch5\",\n",
    "        #\"sketching6\": \"Sketch6\",\n",
    "        #\"sketching7\": \"Sketch7\",\n",
    "        #\"sketching8\": \"Sketch8\",\n",
    "        #\"sketching9\": \"Sketch9\",\n",
    "        #\"sketching10\": \"Sketch10\",\n",
    "        #\"sketching11\": \"Sketch11\",\n",
    "        #\"sketching12\": \"Sketch12\",\n",
    "        #\"sketching13\": \"Sketch13\",\n",
    "        #\"sketching14\": \"Sketch14\",\n",
    "        #\"sketching15\": \"Sketch15\",\n",
    "        #\"sketching16\": \"Sketch16\",\n",
    "        #\"l2s\": \"l2s\"\n",
    "        \"sgd\": \"SGD\"\n",
    "    }\n",
    "\n",
    "    titles = {\n",
    "        \"covertype_sklearn\": \"Covertype\",\n",
    "        \"covertype_sklearn_noisy\": \"Covertype, 1\\% noisy\",\n",
    "        \"kddcup_sklearn\": \"Kddcup\",\n",
    "        \"kddcup_sklearn_noisy\": \"Kddcup, 1\\% noisy\",\n",
    "        \"webspam_libsvm_desparsed\": \"Webspam\",\n",
    "        \"webspam_libsvm_desparsed_noisy\": \"Webspam, 1\\% noisy\",\n",
    "        \"synthetic_n_100000\": \"Synthetic\",\n",
    "        \"synthetic_n_100000_d_200\": \"Syntheticcohen\",\n",
    "        \"synthetic_n_10000_d_100\": \"Syntheticcohen\",\n",
    "        \"synthetic_n_50000_d_400\": \"Syntheticcohen\",\n",
    "        \"synthetic_n_1000_d_20\": \"Syntheticcohen\",\n",
    "        \"synthetic_n_20000_d_15\": \"Syntheticcohen\",\n",
    "        \"synthetic_n_20000_d_100\": \"Synthetic data\"\n",
    "    }\n",
    "\n",
    "    if scale_log:\n",
    "        ax.set_yscale(\"log\")\n",
    "        \n",
    "    if exists(settings.RESULTS_DIR / (dataset.get_name() + f\"_sgd.csv\")):\n",
    "        # add SGD\n",
    "        median_sgd = results_df.loc[results_df[\"method\"] == \"sgd\"][\"ratio\"]\n",
    "        ax.plot([x_min, x_max], [median_sgd, median_sgd], label=\"SGD\", color=colormap(7))\n",
    "\n",
    "    #for cur_method in [\"uniform\", \"sketching1\", \"sketching2\", \"sketching3\", \"sketching4\", \"l2s\"]:\n",
    "    #for cur_method in [\"uniform\", \"sketching5\", \"sketching6\", \"sketching7\", \"sketching8\", \"l2s\"]:\n",
    "    #for cur_method in [\"uniform\", \"sketching9\", \"sketching10\", \"sketching11\", \"sketching12\", \"l2s\"]:\n",
    "    #for cur_method in [\"uniform\", \"sketching13\", \"sketching14\", \"sketching15\", \"sketching16\", \"l2s\"]:\n",
    "    #for cur_method in [\"cauchy\", \"cosketching1\", \"cosketching2\", \"cosketching5\", \"cosketching10\"]:\n",
    "    for cur_method in [\"cauchy\", \"cosketching2\", \"cosketching5\", \"cosketching10\"]:\n",
    "        cur_results = results_df.loc[results_df[\"method\"] == cur_method]\n",
    "        ax.plot(\n",
    "            cur_results[\"size\"], \n",
    "            cur_results[\"ratio\"],\n",
    "            color=colors[cur_method],\n",
    "            label=labels[cur_method],\n",
    "        )\n",
    "\n",
    "    ax.set_xlim(left=x_min, right=x_max)\n",
    "    ax.set_ylim(bottom=y_min, top=y_max)\n",
    "\n",
    "    ax.set_xlabel(\"reduced size\")\n",
    "    ax.set_ylabel(\"median approximation ratio\")\n",
    "\n",
    "    #ax.set_title(titles[dataset.get_name()], fontsize=font_size_title)\n",
    "    ax.set_title(titles[dataset.get_name()], fontsize=font_size_title)\n",
    "\n",
    "    legend = ax.legend(loc=\"upper right\", frameon=True)\n",
    "\n",
    "    fig.tight_layout()\n",
    "\n",
    "    plt.savefig(settings.PLOTS_DIR / f\"{dataset.get_name()}_ratio_plot.pdf\")\n",
    "\n",
    "    plt.show()"
   ]
  },
  {
   "cell_type": "code",
   "execution_count": null,
   "metadata": {},
   "outputs": [],
   "source": [
    "dataset = Synthetic_Dataset_Cohen(20000, 100)\n",
    "make_plot(dataset, x_min=1000, x_max=4000, y_min=1, y_max=20000, scale_log=True)"
   ]
  },
  {
   "cell_type": "code",
   "execution_count": null,
   "metadata": {},
   "outputs": [],
   "source": [
    "dataset = Covertype_Sklearn()\n",
    "make_plot(dataset, x_min=0, x_max=20000, y_min=1, y_max=1.5)"
   ]
  },
  {
   "cell_type": "code",
   "execution_count": null,
   "metadata": {},
   "outputs": [],
   "source": [
    "dataset = KDDCup_Sklearn()\n",
    "make_plot(dataset, x_min=10000, x_max=40000, y_min=1, y_max=1.5)"
   ]
  },
  {
   "cell_type": "code",
   "execution_count": null,
   "metadata": {},
   "outputs": [],
   "source": [
    "dataset = Webspam_libsvm()\n",
    "make_plot(dataset, x_min=0, x_max=15000, y_min=1, y_max=2)"
   ]
  },
  {
   "cell_type": "code",
   "execution_count": null,
   "metadata": {},
   "outputs": [],
   "source": [
    "dataset = Synthetic_Dataset(n_rows=100000)\n",
    "make_plot(dataset, x_min=0, x_max=3000, y_min=1, y_max=1.01)"
   ]
  },
  {
   "cell_type": "code",
   "execution_count": null,
   "metadata": {},
   "outputs": [],
   "source": [
    "dataset = NoisyDataset(dataset=Webspam_libsvm(), percentage=0.01, std=10)\n",
    "make_plot(dataset, x_min=500, x_max=15000, y_min=1, y_max=20)"
   ]
  },
  {
   "cell_type": "code",
   "execution_count": null,
   "metadata": {},
   "outputs": [],
   "source": [
    "dataset = NoisyDataset(dataset=Covertype_Sklearn(), percentage=0.01, std=10)\n",
    "make_plot(dataset, x_min=0, x_max=20000, y_min=1, y_max=5.1)"
   ]
  },
  {
   "cell_type": "code",
   "execution_count": null,
   "metadata": {},
   "outputs": [],
   "source": [
    "dataset = NoisyDataset(dataset=KDDCup_Sklearn(), percentage=0.01, std=10)\n",
    "make_plot(dataset, x_min=10000, x_max=40000, y_min=1, y_max=6)"
   ]
  }
 ],
 "metadata": {
  "kernelspec": {
   "display_name": "Python 3.7.6 64-bit",
   "language": "python",
   "name": "python3"
  },
  "language_info": {
   "codemirror_mode": {
    "name": "ipython",
    "version": 3
   },
   "file_extension": ".py",
   "mimetype": "text/x-python",
   "name": "python",
   "nbconvert_exporter": "python",
   "pygments_lexer": "ipython3",
   "version": "3.7.6"
  },
  "metadata": {
   "interpreter": {
    "hash": "973d2a6cb8ee44537b3c610059a856246ace7cb1c50cf3df2561fdd2103fe937"
   }
  },
  "vscode": {
   "interpreter": {
    "hash": "0a54084e6b208ee8d1ce3989ffc20924477a5f55f5a43e22e699a6741623861e"
   }
  }
 },
 "nbformat": 4,
 "nbformat_minor": 4
}
